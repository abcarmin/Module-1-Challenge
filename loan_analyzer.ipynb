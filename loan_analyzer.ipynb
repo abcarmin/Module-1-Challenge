{
 "cells": [
  {
   "cell_type": "code",
   "execution_count": 107,
   "metadata": {},
   "outputs": [
    {
     "name": "stdout",
     "output_type": "stream",
     "text": [
      "There are 5 total loans.\n"
     ]
    }
   ],
   "source": [
    "# Part 1, No. 1\n",
    "# How many loans are in the list?\n",
    "# @TODO: Use the `len` function to calculate the total number of loans in the list.\n",
    "# Print the number of loans from the list\n",
    "import csv\n",
    "from pathlib import Path\n",
    "\n",
    "loan_costs = [500, 600, 200, 1000, 450]\n",
    "number_of_loans = len(loan_costs)\n",
    "print(\"There are\", number_of_loans, \"total loans.\")"
   ]
  },
  {
   "cell_type": "code",
   "execution_count": 93,
   "metadata": {},
   "outputs": [
    {
     "name": "stdout",
     "output_type": "stream",
     "text": [
      "The total of all loan amounts is $2750.\n"
     ]
    }
   ],
   "source": [
    "# Part 1, No. 2\n",
    "# What is the total of all loans?\n",
    "# @TODO: Use the `sum` function to calculate the total of all loans in the list.\n",
    "# Print the total value of the loans\n",
    "\n",
    "sum_of_loans = sum(loan_costs)\n",
    "print(f\"The total of all loan amounts is ${sum_of_loans}.\")"
   ]
  },
  {
   "cell_type": "code",
   "execution_count": 94,
   "metadata": {},
   "outputs": [
    {
     "name": "stdout",
     "output_type": "stream",
     "text": [
      "The average price of all loans is $550.00.\n"
     ]
    }
   ],
   "source": [
    "# Part 1, No. 3\n",
    "# What is the average loan amount from the list?\n",
    "# @TODO: Using the sum of all loans and the total number of loans, calculate the average loan price.\n",
    "# Print the average loan amount\n",
    "\n",
    "average_price = sum_of_loans/number_of_loans\n",
    "print(f\"The average price of all loans is ${average_price:.2f}.\")"
   ]
  },
  {
   "cell_type": "code",
   "execution_count": 95,
   "metadata": {},
   "outputs": [
    {
     "name": "stdout",
     "output_type": "stream",
     "text": [
      "The future value is $1000\n",
      "Months remaining: 9 months\n"
     ]
    }
   ],
   "source": [
    "#Part 2, No. 1\n",
    "# @TODO: Use get() on the dictionary of additional information to extract the Future Value and Remaining Months on the loan.\n",
    "# Print each variable.\n",
    "\n",
    "loan = {\n",
    "    \"loan_price\": 500,\n",
    "    \"remaining_months\": 9,\n",
    "    \"repayment_interval\": \"bullet\",\n",
    "    \"future_value\": 1000,\n",
    "}\n",
    "\n",
    "future_value = loan.get(\"future_value\")\n",
    "remaining_months = loan.get(\"remaining_months\")\n",
    "print(f\"The future value is ${future_value}\")\n",
    "print(f\"Months remaining: {remaining_months} months\")"
   ]
  },
  {
   "cell_type": "code",
   "execution_count": 96,
   "metadata": {},
   "outputs": [
    {
     "name": "stdout",
     "output_type": "stream",
     "text": [
      "The present value is 861.77\n"
     ]
    }
   ],
   "source": [
    "# Part 2, No. 2\n",
    "# @TODO: Use the formula for Present Value to calculate a \"fair value\" of the loan.\n",
    "# Use a minimum required return of 20% as the discount rate.\n",
    "#   You'll want to use the **monthly** version of the present value formula.\n",
    "#   HINT: Present Value = Future Value / (1 + Discount_Rate/12) ** remaining_months\n",
    "\n",
    "discount_rate = 0.20\n",
    "present_value = future_value/(1+discount_rate/12)**remaining_months\n",
    "print(f\"The present value is {present_value:.2f}\")"
   ]
  },
  {
   "cell_type": "code",
   "execution_count": 97,
   "metadata": {},
   "outputs": [
    {
     "name": "stdout",
     "output_type": "stream",
     "text": [
      "The loan is worth at least the cost to buy it.\n"
     ]
    }
   ],
   "source": [
    "# Part 2, No. 3\n",
    "# If Present Value represents what the loan is really worth, does it make sense to buy the loan at its cost?\n",
    "# @TODO: Write a conditional statement (an if-else statement) to decide if the present value represents the loan's fair value.\n",
    "#    If the present value of the loan is greater than or equal to the cost, then print a message that says the loan is worth at least the cost to buy it.\n",
    "#    Else, the present value of the loan is less than the loan cost, then print a message that says that the loan is too expensive and not worth the price.\n",
    "\n",
    "if present_value >= loan.get(\"loan_price\"):\n",
    "    print(\"The loan is worth at least the cost to buy it.\")\n",
    "else:\n",
    "    print(\"The loan is too expensive and not worth the price.\")"
   ]
  },
  {
   "cell_type": "code",
   "execution_count": 98,
   "metadata": {},
   "outputs": [
    {
     "name": "stdout",
     "output_type": "stream",
     "text": [
      "The present value of the loan is: 820.0814425978174\n"
     ]
    }
   ],
   "source": [
    "# Part 3\n",
    "# @TODO: Define a new function that will be used to calculate present value.\n",
    "#    This function should include parameters for `future_value`, `remaining_months`, and the `annual_discount_rate`\n",
    "#    The function should return the `present_value` for the loan.\n",
    "# @TODO: Use the function to calculate the present value of the new loan given below.\n",
    "#    Use an `annual_discount_rate` of 0.2 for this new loan calculation.\n",
    "\n",
    "new_loan = {\n",
    "    \"loan_price\": 800,\n",
    "    \"remaining_months\": 12,\n",
    "    \"repayment_interval\": \"bullet\",\n",
    "    \"future_value\": 1000,\n",
    "}\n",
    "def new_loan_present_value():\n",
    "    annual_discount_rate = 0.20\n",
    "    new_loan_future_value = new_loan.get(\"future_value\")\n",
    "    new_loan_remaining_months = new_loan.get(\"remaining_months\")\n",
    "\n",
    "    return new_loan_future_value/(1+annual_discount_rate/12)**new_loan_remaining_months\n",
    "print(f\"The present value of the loan is: {new_loan_present_value()}\")"
   ]
  },
  {
   "cell_type": "code",
   "execution_count": 106,
   "metadata": {},
   "outputs": [
    {
     "name": "stdout",
     "output_type": "stream",
     "text": [
      "[{'loan_price': 500, 'remaining_months': 13, 'repayment_interval': 'bullet', 'future_value': 1000}, {'loan_price': 200, 'remaining_months': 16, 'repayment_interval': 'bullet', 'future_value': 1000}]\n"
     ]
    }
   ],
   "source": [
    "# Part 4\n",
    "# @TODO: Create an empty list called `inexpensive_loans`\n",
    "inexpensive_loans = []\n",
    "\n",
    "# @TODO: Loop through all the loans and append any that cost $500 or less to the `inexpensive_loans` list\n",
    "loans = [\n",
    "    {\n",
    "        \"loan_price\": 700,\n",
    "        \"remaining_months\": 9,\n",
    "        \"repayment_interval\": \"monthly\",\n",
    "        \"future_value\": 1000,\n",
    "    },\n",
    "    {\n",
    "        \"loan_price\": 500,\n",
    "        \"remaining_months\": 13,\n",
    "        \"repayment_interval\": \"bullet\",\n",
    "        \"future_value\": 1000,\n",
    "    },\n",
    "    {\n",
    "        \"loan_price\": 200,\n",
    "        \"remaining_months\": 16,\n",
    "        \"repayment_interval\": \"bullet\",\n",
    "        \"future_value\": 1000,\n",
    "    },\n",
    "    {\n",
    "        \"loan_price\": 900,\n",
    "        \"remaining_months\": 16,\n",
    "        \"repayment_interval\": \"bullet\",\n",
    "        \"future_value\": 1000,\n",
    "    },\n",
    "]\n",
    "for loan in loans:\n",
    "    if loan[\"loan_price\"] <= 500:\n",
    "        inexpensive_loans.append(loan)\n",
    "\n",
    "# @TODO: Print the `inexpensive_loans` list\n",
    "print(inexpensive_loans)"
   ]
  },
  {
   "cell_type": "code",
   "execution_count": 110,
   "metadata": {},
   "outputs": [],
   "source": [
    "# Part 5\n",
    "# Set the output header\n",
    "header = [\"loan_price\", \"remaining_months\", \"repayment_interval\", \"future_value\"]\n",
    "\n",
    "# Set the output file path\n",
    "output_path = Path(\"inexpensive_loans.csv\")\n",
    "\n",
    "# @TODO: Use the csv library and `csv.writer` to write the header row\n",
    "# and each row of `loan.values()` from the `inexpensive_loans` list.\n",
    "with open(output_path, 'w',newline='') as csvfile:\n",
    "    csvwriter = csv.writer(csvfile)\n",
    "    csvwriter.writerow(header)\n",
    "    for loan in inexpensive_loans:\n",
    "        csvwriter.writerow(loan.values())"
   ]
  },
  {
   "cell_type": "code",
   "execution_count": null,
   "metadata": {},
   "outputs": [],
   "source": []
  }
 ],
 "metadata": {
  "kernelspec": {
   "display_name": "dev",
   "language": "python",
   "name": "dev"
  },
  "language_info": {
   "codemirror_mode": {
    "name": "ipython",
    "version": 3
   },
   "file_extension": ".py",
   "mimetype": "text/x-python",
   "name": "python",
   "nbconvert_exporter": "python",
   "pygments_lexer": "ipython3",
   "version": "3.8.3"
  },
  "orig_nbformat": 4
 },
 "nbformat": 4,
 "nbformat_minor": 2
}
